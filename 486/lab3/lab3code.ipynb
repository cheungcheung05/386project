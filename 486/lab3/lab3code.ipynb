{
 "cells": [
  {
   "cell_type": "code",
   "execution_count": 8,
   "metadata": {},
   "outputs": [],
   "source": [
    "from sklearn.model_selection import train_test_split\n",
    "from sklearn.impute import SimpleImputer\n",
    "from sklearn.preprocessing import PolynomialFeatures, StandardScaler\n",
    "from sklearn.pipeline import Pipeline\n",
    "from sklearn.linear_model import RidgeCV, LassoCV\n",
    "from sklearn.metrics import mean_squared_error\n",
    "import numpy as np"
   ]
  },
  {
   "cell_type": "code",
   "execution_count": 2,
   "metadata": {},
   "outputs": [],
   "source": [
    "data = pd.read_csv(\"ocean_data.csv\")\n",
    "\n",
    "# Drop non-numerical columns\n",
    "df = data.drop(columns = ['Wea', 'Cloud_Typ', 'Cloud_Amt', 'Visibility'])\n",
    "\n",
    "target_variable = df['T_degC']\n",
    "\n",
    "numerical_features = df.drop(columns = ['T_degC'])\n",
    "\n",
    "X_train, X_test, y_train, y_test = train_test_split(numerical_features, target_variable, test_size=0.25, random_state=307)"
   ]
  },
  {
   "cell_type": "code",
   "execution_count": 3,
   "metadata": {},
   "outputs": [],
   "source": [
    "pipe = Pipeline([\n",
    "    ('impute', SimpleImputer(strategy='mean')),\n",
    "    ('poly_features', PolynomialFeatures(degree=2, include_bias=False)),\n",
    "    ('scaler', StandardScaler())\n",
    "])"
   ]
  },
  {
   "cell_type": "code",
   "execution_count": 4,
   "metadata": {},
   "outputs": [],
   "source": [
    "X_train = pipe.fit_transform(X_train)\n",
    "X_test = pipe.transform(X_test)"
   ]
  },
  {
   "cell_type": "code",
   "execution_count": 6,
   "metadata": {},
   "outputs": [
    {
     "name": "stdout",
     "output_type": "stream",
     "text": [
      "Optimal value for alpha: 1e-06\n",
      "Test MSE: 1.7543290443307327\n",
      "Value of the largest coefficient (excluding intercept): 147.56405022443593\n",
      "Number of coefficients exactly equal to 0: 0\n"
     ]
    }
   ],
   "source": [
    "alphas = np.logspace(-6, 6, 30)\n",
    "ridge_cv = RidgeCV(alphas=alphas, cv=10)\n",
    "ridge_cv.fit(X_train, y_train)\n",
    "\n",
    "# (b) Optimal value for alpha\n",
    "optimal_alpha = ridge_cv.alpha_\n",
    "print(\"Optimal value for alpha:\", optimal_alpha)\n",
    "\n",
    "# (c) Test MSE\n",
    "y_pred_test = ridge_cv.predict(X_test)\n",
    "test_mse = mean_squared_error(y_test, y_pred_test)\n",
    "print(\"Test MSE:\", test_mse)\n",
    "\n",
    "# (d) Value of the coefficient that is largest in magnitude (excluding the intercept)\n",
    "largest_coefficient = np.max(np.abs(ridge_cv.coef_))\n",
    "print(\"Value of the largest coefficient (excluding intercept):\", largest_coefficient)\n",
    "\n",
    "# (e) Number of coefficients exactly equal to 0\n",
    "num_zero_coefficients = np.sum(ridge_cv.coef_ == 0)\n",
    "print(\"Number of coefficients exactly equal to 0:\", num_zero_coefficients)"
   ]
  },
  {
   "cell_type": "code",
   "execution_count": 10,
   "metadata": {},
   "outputs": [
    {
     "name": "stdout",
     "output_type": "stream",
     "text": [
      "Optimal value for alpha: 0.009882719034103205\n",
      "Test MSE: 1.9763166496302538\n",
      "Value of the largest coefficient (excluding intercept): 2.408803252450286\n",
      "Number of coefficients exactly equal to 0: 18\n"
     ]
    }
   ],
   "source": [
    "lasso_cv = LassoCV(cv=10)\n",
    "lasso_cv.fit(X_train, y_train)\n",
    "\n",
    "# (b) Optimal value for alpha\n",
    "optimal_alpha = lasso_cv.alpha_\n",
    "print(\"Optimal value for alpha:\", optimal_alpha)\n",
    "\n",
    "# (c) Test MSE\n",
    "y_pred_test = lasso_cv.predict(X_test)\n",
    "test_mse = mean_squared_error(y_test, y_pred_test)\n",
    "print(\"Test MSE:\", test_mse)\n",
    "\n",
    "# (d) Value of the coefficient that is largest in magnitude (excluding the intercept)\n",
    "largest_coefficient = np.max(np.abs(lasso_cv.coef_))\n",
    "print(\"Value of the largest coefficient (excluding intercept):\", largest_coefficient)\n",
    "\n",
    "# (e) Number of coefficients exactly equal to 0\n",
    "num_zero_coefficients = np.sum(lasso_cv.coef_ == 0)\n",
    "print(\"Number of coefficients exactly equal to 0:\", num_zero_coefficients)"
   ]
  }
 ],
 "metadata": {
  "kernelspec": {
   "display_name": "stat386",
   "language": "python",
   "name": "python3"
  },
  "language_info": {
   "codemirror_mode": {
    "name": "ipython",
    "version": 3
   },
   "file_extension": ".py",
   "mimetype": "text/x-python",
   "name": "python",
   "nbconvert_exporter": "python",
   "pygments_lexer": "ipython3",
   "version": "3.10.0"
  }
 },
 "nbformat": 4,
 "nbformat_minor": 2
}
